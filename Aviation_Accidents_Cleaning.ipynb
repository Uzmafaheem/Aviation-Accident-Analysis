{
 "cells": [
  {
   "cell_type": "markdown",
   "id": "d7485d62",
   "metadata": {},
   "source": [
    "# Aviation Accidents Analysis\n",
    "\n",
    "You are part of a consulting firm that is tasked to do an analysis of commercial and passenger jet airline safety. The client (an airline/airplane insurer) is interested in knowing what types of aircraft (makes/models) exhibit low rates of total destruction and low likelihood of fatal or serious passenger injuries in the event of an accident. They are also interested in any general variables/conditions that might be at play. Your analysis will be based off of aviation accident data accumulated from the years 1948-2023. \n",
    "\n",
    "Our client is only interested in airplane makes/models that are professional builds and could potentially still be active. Assume a max lifetime of 40 years for a make/model retirement and make sure to filter your data accordingly (i.e. from 1983 onwards). They would also like separate recommendations for small aircraft vs. larger passenger models. **In addition, make sure that claims that you make are statistically robust and that you have enough samples when making comparisons between groups.**\n",
    "\n",
    "\n",
    "In this summative assessment you will demonstrate your ability to:\n",
    "- **Use Pandas to load, inspect, and clean the dataset appropriately.**\n",
    "- **Transform relevant columns to create measures that address the problem at hand.**\n",
    "- conduct EDA: visualization and statistical measures to systematically understand the structure of the data\n",
    "- recommend a set of airplanes and makes conforming to the client's request and identify at least *two* factors contributing to airplane safety. You must provide supporting evidence (visuals, summary statistics, tables) for each claim you make."
   ]
  },
  {
   "cell_type": "markdown",
   "id": "73e582c5",
   "metadata": {},
   "source": [
    "### Make relevant library imports"
   ]
  },
  {
   "cell_type": "code",
   "execution_count": 33,
   "id": "a72188a8",
   "metadata": {},
   "outputs": [],
   "source": [
    "import pandas as pd\n",
    "import numpy as np\n",
    "import matplotlib.pyplot as plt\n",
    "import seaborn as sns\n",
    "from datetime import datetime"
   ]
  },
  {
   "cell_type": "markdown",
   "id": "5b1fc321",
   "metadata": {},
   "source": [
    "## Data Loading and Inspection"
   ]
  },
  {
   "cell_type": "markdown",
   "id": "57becc28",
   "metadata": {},
   "source": [
    "### Load in data from the relevant directory and inspect the dataframe.\n",
    "- inspect NaNs, datatypes, and summary statistics"
   ]
  },
  {
   "cell_type": "code",
   "execution_count": 34,
   "id": "85235fa7",
   "metadata": {},
   "outputs": [
    {
     "name": "stdout",
     "output_type": "stream",
     "text": [
      "<class 'pandas.core.frame.DataFrame'>\n",
      "RangeIndex: 88889 entries, 0 to 88888\n",
      "Data columns (total 31 columns):\n",
      " #   Column                  Non-Null Count  Dtype  \n",
      "---  ------                  --------------  -----  \n",
      " 0   Event.Id                88889 non-null  object \n",
      " 1   Investigation.Type      88889 non-null  object \n",
      " 2   Accident.Number         88889 non-null  object \n",
      " 3   Event.Date              88889 non-null  object \n",
      " 4   Location                88837 non-null  object \n",
      " 5   Country                 88663 non-null  object \n",
      " 6   Latitude                34382 non-null  object \n",
      " 7   Longitude               34373 non-null  object \n",
      " 8   Airport.Code            50249 non-null  object \n",
      " 9   Airport.Name            52790 non-null  object \n",
      " 10  Injury.Severity         87889 non-null  object \n",
      " 11  Aircraft.damage         85695 non-null  object \n",
      " 12  Aircraft.Category       32287 non-null  object \n",
      " 13  Registration.Number     87572 non-null  object \n",
      " 14  Make                    88826 non-null  object \n",
      " 15  Model                   88797 non-null  object \n",
      " 16  Amateur.Built           88787 non-null  object \n",
      " 17  Number.of.Engines       82805 non-null  float64\n",
      " 18  Engine.Type             81812 non-null  object \n",
      " 19  FAR.Description         32023 non-null  object \n",
      " 20  Schedule                12582 non-null  object \n",
      " 21  Purpose.of.flight       82697 non-null  object \n",
      " 22  Air.carrier             16648 non-null  object \n",
      " 23  Total.Fatal.Injuries    77488 non-null  float64\n",
      " 24  Total.Serious.Injuries  76379 non-null  float64\n",
      " 25  Total.Minor.Injuries    76956 non-null  float64\n",
      " 26  Total.Uninjured         82977 non-null  float64\n",
      " 27  Weather.Condition       84397 non-null  object \n",
      " 28  Broad.phase.of.flight   61724 non-null  object \n",
      " 29  Report.Status           82508 non-null  object \n",
      " 30  Publication.Date        75118 non-null  object \n",
      "dtypes: float64(5), object(26)\n",
      "memory usage: 21.0+ MB\n"
     ]
    }
   ],
   "source": [
    "df = pd.read_csv('AviationData1.csv', low_memory=False)\n",
    "df.info()"
   ]
  },
  {
   "cell_type": "code",
   "execution_count": 35,
   "id": "75c08681",
   "metadata": {},
   "outputs": [
    {
     "name": "stdout",
     "output_type": "stream",
     "text": [
      "\n",
      "Any NaN values in the DataFrame: True\n"
     ]
    }
   ],
   "source": [
    "# Inspect Missing Values (NaNs)\n",
    "# Check if any NaN values exist in the entire DataFrame\n",
    "print(\"\\nAny NaN values in the DataFrame:\", df.isnull().values.any())"
   ]
  },
  {
   "cell_type": "code",
   "execution_count": 36,
   "id": "474a19f3",
   "metadata": {},
   "outputs": [
    {
     "name": "stdout",
     "output_type": "stream",
     "text": [
      "\n",
      "NaN values per column:\n",
      "Event.Id                      0\n",
      "Investigation.Type            0\n",
      "Accident.Number               0\n",
      "Event.Date                    0\n",
      "Location                     52\n",
      "Country                     226\n",
      "Latitude                  54507\n",
      "Longitude                 54516\n",
      "Airport.Code              38640\n",
      "Airport.Name              36099\n",
      "Injury.Severity            1000\n",
      "Aircraft.damage            3194\n",
      "Aircraft.Category         56602\n",
      "Registration.Number        1317\n",
      "Make                         63\n",
      "Model                        92\n",
      "Amateur.Built               102\n",
      "Number.of.Engines          6084\n",
      "Engine.Type                7077\n",
      "FAR.Description           56866\n",
      "Schedule                  76307\n",
      "Purpose.of.flight          6192\n",
      "Air.carrier               72241\n",
      "Total.Fatal.Injuries      11401\n",
      "Total.Serious.Injuries    12510\n",
      "Total.Minor.Injuries      11933\n",
      "Total.Uninjured            5912\n",
      "Weather.Condition          4492\n",
      "Broad.phase.of.flight     27165\n",
      "Report.Status              6381\n",
      "Publication.Date          13771\n",
      "dtype: int64\n"
     ]
    }
   ],
   "source": [
    "#Count NaN values per column\n",
    "print(\"\\nNaN values per column:\")\n",
    "print(df.isnull().sum())"
   ]
  },
  {
   "cell_type": "code",
   "execution_count": 37,
   "id": "310f38c0",
   "metadata": {},
   "outputs": [
    {
     "name": "stdout",
     "output_type": "stream",
     "text": [
      "       Number.of.Engines  Total.Fatal.Injuries  Total.Serious.Injuries  \\\n",
      "count       82805.000000          77488.000000            76379.000000   \n",
      "mean            1.146585              0.647855                0.279881   \n",
      "std             0.446510              5.485960                1.544084   \n",
      "min             0.000000              0.000000                0.000000   \n",
      "25%             1.000000              0.000000                0.000000   \n",
      "50%             1.000000              0.000000                0.000000   \n",
      "75%             1.000000              0.000000                0.000000   \n",
      "max             8.000000            349.000000              161.000000   \n",
      "\n",
      "       Total.Minor.Injuries  Total.Uninjured  \n",
      "count          76956.000000     82977.000000  \n",
      "mean               0.357061         5.325440  \n",
      "std                2.235625        27.913634  \n",
      "min                0.000000         0.000000  \n",
      "25%                0.000000         0.000000  \n",
      "50%                0.000000         1.000000  \n",
      "75%                0.000000         2.000000  \n",
      "max              380.000000       699.000000  \n"
     ]
    }
   ],
   "source": [
    "print(df.describe())"
   ]
  },
  {
   "cell_type": "markdown",
   "id": "2e9b8cc7",
   "metadata": {},
   "source": [
    "## Data Cleaning"
   ]
  },
  {
   "cell_type": "markdown",
   "id": "c23efd78",
   "metadata": {},
   "source": [
    "### Filtering aircrafts and events"
   ]
  },
  {
   "cell_type": "markdown",
   "id": "9c399343",
   "metadata": {},
   "source": [
    "We want to filter the dataset to include aircraft that the client is interested in an analysis of:\n",
    "- inspect relevant columns\n",
    "- figure out any reasonable imputations\n",
    "- filter the dataset"
   ]
  },
  {
   "cell_type": "code",
   "execution_count": 38,
   "id": "5a2b7eab",
   "metadata": {},
   "outputs": [
    {
     "name": "stdout",
     "output_type": "stream",
     "text": [
      "No     80312\n",
      "Yes     8475\n",
      "Name: Amateur.Built, dtype: int64\n",
      " --------- \n",
      "Airplane             27617\n",
      "Helicopter            3440\n",
      "Glider                 508\n",
      "Balloon                231\n",
      "Gyrocraft              173\n",
      "Weight-Shift           161\n",
      "Powered Parachute       91\n",
      "Ultralight              30\n",
      "Unknown                 14\n",
      "WSFT                     9\n",
      "Powered-Lift             5\n",
      "Blimp                    4\n",
      "UNK                      2\n",
      "Rocket                   1\n",
      "ULTR                     1\n",
      "Name: Aircraft.Category, dtype: int64\n",
      " --------- \n",
      "Cessna               22227\n",
      "Piper                12029\n",
      "CESSNA                4922\n",
      "Beech                 4330\n",
      "PIPER                 2841\n",
      "Bell                  2134\n",
      "Boeing                1594\n",
      "BOEING                1151\n",
      "Grumman               1094\n",
      "Mooney                1092\n",
      "BEECH                 1042\n",
      "Robinson               946\n",
      "Bellanca               886\n",
      "Hughes                 795\n",
      "Schweizer              629\n",
      "Air Tractor            595\n",
      "BELL                   588\n",
      "Mcdonnell Douglas      526\n",
      "Aeronca                487\n",
      "Maule                  445\n",
      "Name: Make, dtype: int64\n"
     ]
    }
   ],
   "source": [
    "# Inspect unique values in 'Aircraft_Category', Aircraft_Type, Make\n",
    "print(df['Amateur.Built'].value_counts())\n",
    "print( \" --------- \")\n",
    "print(df['Aircraft.Category'].value_counts())\n",
    "print( \" --------- \")\n",
    "print(df['Make'].value_counts().head(20))"
   ]
  },
  {
   "cell_type": "code",
   "execution_count": 39,
   "id": "78b4f790",
   "metadata": {},
   "outputs": [
    {
     "name": "stdout",
     "output_type": "stream",
     "text": [
      "  Aircraft.Category Amateur.Built Event.Date\n",
      "0               NaN            No   10/24/48\n",
      "1               NaN            No    7/19/62\n",
      "2               NaN            No    8/30/74\n",
      "3               NaN            No    6/19/77\n",
      "4               NaN            No     8/2/79\n",
      "<class 'pandas.core.frame.DataFrame'>\n",
      "RangeIndex: 88889 entries, 0 to 88888\n",
      "Data columns (total 3 columns):\n",
      " #   Column             Non-Null Count  Dtype \n",
      "---  ------             --------------  ----- \n",
      " 0   Aircraft.Category  32287 non-null  object\n",
      " 1   Amateur.Built      88787 non-null  object\n",
      " 2   Event.Date         88889 non-null  object\n",
      "dtypes: object(3)\n",
      "memory usage: 2.0+ MB\n",
      "None\n"
     ]
    }
   ],
   "source": [
    "print(df[['Aircraft.Category', 'Amateur.Built', 'Event.Date']].head())\n",
    "print(df[['Aircraft.Category', 'Amateur.Built', 'Event.Date']].info())"
   ]
  },
  {
   "cell_type": "code",
   "execution_count": 40,
   "id": "77bde92a",
   "metadata": {},
   "outputs": [],
   "source": [
    "df['Aircraft.Category'] = df['Aircraft.Category'].fillna(\"Unknown\")"
   ]
  },
  {
   "cell_type": "code",
   "execution_count": 41,
   "id": "d5d09fc0",
   "metadata": {},
   "outputs": [],
   "source": [
    "df['Amateur.Built'] = df['Amateur.Built'].fillna(\"No\")"
   ]
  },
  {
   "cell_type": "code",
   "execution_count": 42,
   "id": "b7b54e69",
   "metadata": {},
   "outputs": [],
   "source": [
    "from datetime import datetime\n",
    "df['Event.Date'] = pd.to_datetime(df['Event.Date'], errors='coerce')\n",
    "df = df.dropna(subset=['Event.Date'])"
   ]
  },
  {
   "cell_type": "code",
   "execution_count": 43,
   "id": "00830753",
   "metadata": {},
   "outputs": [
    {
     "name": "stdout",
     "output_type": "stream",
     "text": [
      "Filtered dataset shape: (21441, 31)\n",
      "             Event.Id Investigation.Type Accident.Number Event.Date  \\\n",
      "13114  20001214X37718           Accident      ATL85MA286 1985-09-29   \n",
      "14259  20001213X33054           Accident      FTW86FA050 1986-03-29   \n",
      "14357  20001213X33306           Accident      LAX86LA166 1986-04-08   \n",
      "14420  20001213X33276           Accident     FTW86FA066B 1986-04-15   \n",
      "14421  20001213X33276           Accident     FTW86FA066A 1986-04-15   \n",
      "\n",
      "              Location        Country Latitude Longitude Airport.Code  \\\n",
      "13114  JENKINSBURG, GA  United States      NaN       NaN          NaN   \n",
      "14259   SEAGOVILLE, TX  United States      NaN       NaN          59F   \n",
      "14357         MESA, AZ  United States      NaN       NaN          FFZ   \n",
      "14420     HANKAMER, TX  United States      NaN       NaN          NaN   \n",
      "14421     HANKAMER, TX  United States      NaN       NaN          NaN   \n",
      "\n",
      "                    Airport.Name  ...   Purpose.of.flight Air.carrier  \\\n",
      "13114  WEST WIND SPORT PARACHUTE  ...           Skydiving         NaN   \n",
      "14259                 SEAGOVILLE  ...           Skydiving         NaN   \n",
      "14357               FALCON FIELD  ...            Personal         NaN   \n",
      "14420                        NaN  ...  Aerial Application         NaN   \n",
      "14421                        NaN  ...  Aerial Application         NaN   \n",
      "\n",
      "      Total.Fatal.Injuries Total.Serious.Injuries Total.Minor.Injuries  \\\n",
      "13114                 17.0                    NaN                  NaN   \n",
      "14259                  3.0                    2.0                  NaN   \n",
      "14357                  NaN                    NaN                  NaN   \n",
      "14420                  2.0                    NaN                  NaN   \n",
      "14421                  2.0                    NaN                  NaN   \n",
      "\n",
      "      Total.Uninjured Weather.Condition  Broad.phase.of.flight  \\\n",
      "13114             NaN               VMC                Takeoff   \n",
      "14259             NaN               VMC                Takeoff   \n",
      "14357             2.0               VMC                Landing   \n",
      "14420             NaN               VMC                Descent   \n",
      "14421             NaN               VMC               Standing   \n",
      "\n",
      "        Report.Status Publication.Date  \n",
      "13114  Probable Cause       17-10-2016  \n",
      "14259  Probable Cause       17-10-2016  \n",
      "14357  Probable Cause           3/8/11  \n",
      "14420  Probable Cause           8/4/13  \n",
      "14421  Probable Cause           8/4/13  \n",
      "\n",
      "[5 rows x 31 columns]\n"
     ]
    }
   ],
   "source": [
    "#Apply filters\n",
    "df_filtered = df[df['Aircraft.Category'].str.contains(\"Airplane\", case=False, na=False)]\n",
    "\n",
    "# Client wants professional builds only\n",
    "df_filtered = df_filtered[df_filtered['Amateur.Built'].str.lower() == \"no\"]\n",
    "\n",
    "# Client wants events in the last 40 years\n",
    "cutoff_date = datetime.now() - pd.DateOffset(years=40)\n",
    "df_filtered = df_filtered[df_filtered['Event.Date'] >= cutoff_date]\n",
    "\n",
    "# Final filtered dataset shape\n",
    "print(\"Filtered dataset shape:\", df_filtered.shape)\n",
    "\n",
    "# Preview final result\n",
    "print(df_filtered.head())"
   ]
  },
  {
   "cell_type": "markdown",
   "id": "36d26002",
   "metadata": {},
   "source": [
    "### Cleaning and constructing Key Measurables\n",
    "\n",
    "Injuries and robustness to destruction are a key interest point for the client. Clean and impute relevant columns and then create derived fields that best quantifies what the client wishes to track. **Use commenting or markdown to explain any cleaning assumptions as well as any derived columns you create.**"
   ]
  },
  {
   "cell_type": "markdown",
   "id": "070b08f8",
   "metadata": {},
   "source": [
    "**Construct metric for fatal/serious injuries**\n",
    "\n",
    "*Hint:* Estimate the total number of passengers on each flight. The likelihood of serious / fatal injury can be estimated as a fraction from this."
   ]
  },
  {
   "cell_type": "code",
   "execution_count": 44,
   "id": "ef28a6d4",
   "metadata": {},
   "outputs": [],
   "source": [
    "injury_cols = [\"Total.Fatal.Injuries\", \"Total.Serious.Injuries\", \n",
    "               \"Total.Minor.Injuries\", \"Total.Uninjured\"]\n",
    "for col in injury_cols:\n",
    "    df[col] = pd.to_numeric(df[col], errors=\"coerce\").fillna(0).astype(int)"
   ]
  },
  {
   "cell_type": "code",
   "execution_count": 45,
   "id": "bfae9827",
   "metadata": {},
   "outputs": [
    {
     "name": "stdout",
     "output_type": "stream",
     "text": [
      "<class 'pandas.core.series.Series'>\n",
      "RangeIndex: 88889 entries, 0 to 88888\n",
      "Series name: Total_Passengers\n",
      "Non-Null Count  Dtype\n",
      "--------------  -----\n",
      "88889 non-null  int64\n",
      "dtypes: int64(1)\n",
      "memory usage: 694.6 KB\n"
     ]
    }
   ],
   "source": [
    "df[\"Total_Passengers\"] = ( df[\"Total.Fatal.Injuries\"] + df[\"Total.Serious.Injuries\"] +df[\"Total.Minor.Injuries\"] +df[\"Total.Uninjured\"] )\n",
    "df[\"Total_Passengers\"].info()\n",
    "df[\"Total_Passengers\"].isnull()\n",
    "#If Total_Passengers > 0  valid flight data.\n",
    "#If Total_Passengers = 0  treat it as NaN (missing), not a real 0 \n",
    "#because (Fatal + Serious) / Total_Passengers means we’d hit a divideby zero error or artificially inflate the injury ratio.\n",
    "df.loc[df[\"Total_Passengers\"] == 0, \"Total_Passengers\"] = np.nan"
   ]
  },
  {
   "cell_type": "code",
   "execution_count": 46,
   "id": "518687d6",
   "metadata": {},
   "outputs": [],
   "source": [
    "df[\"Fatal_Serious_Fraction\"] = ((df[\"Total.Fatal.Injuries\"] + df[\"Total.Serious.Injuries\"]) / df[\"Total_Passengers\"])\n",
    "# Fill NaN (from missing passengers) with 0\n",
    "df[\"Fatal_Serious_Fraction\"] = df[\"Fatal_Serious_Fraction\"].fillna(0)\n"
   ]
  },
  {
   "cell_type": "markdown",
   "id": "02328ab7",
   "metadata": {},
   "source": [
    "This metric ranges from 0 to 1, \n",
    "where:0 → no fatal/serious injuries,\n",
    "      1 → all passengers fatally/seriously injured,\n",
    "      0.5 → half of passengers fatally/seriously injured."
   ]
  },
  {
   "cell_type": "markdown",
   "id": "6c89136b",
   "metadata": {},
   "source": [
    "**Aircraft.Damage**\n",
    "- identify and execute any cleaning tasks\n",
    "- construct a derived column tracking whether an aircraft was destroyed or not."
   ]
  },
  {
   "cell_type": "code",
   "execution_count": 52,
   "id": "a8c3890b",
   "metadata": {},
   "outputs": [
    {
     "name": "stdout",
     "output_type": "stream",
     "text": [
      "0      destroyed\n",
      "1      destroyed\n",
      "2      destroyed\n",
      "3      destroyed\n",
      "4      destroyed\n",
      "5    substantial\n",
      "6      destroyed\n",
      "7    substantial\n",
      "8    substantial\n",
      "9    substantial\n",
      "Name: Aircraft.damage, dtype: object\n"
     ]
    }
   ],
   "source": [
    "print(df[\"Aircraft.damage\"].head(10))\n",
    "df[\"Aircraft.damage\"] = df[\"Aircraft.damage\"].str.strip().str.lower()"
   ]
  },
  {
   "cell_type": "markdown",
   "id": "0374bf45",
   "metadata": {},
   "source": [
    "\"Aircraft.Damage\" is a text column (categorical values like \"destroyed\", \"substantial\", \"minor\", or even NaN).\n",
    "So we convert the category into a binary numeric flag:\n",
    "If the aircraft was \"destroyed\" → 1\n",
    "If anything else (substantial, minor, unknown, missing) → 0"
   ]
  },
  {
   "cell_type": "code",
   "execution_count": 55,
   "id": "91b518b1",
   "metadata": {},
   "outputs": [],
   "source": [
    "# using apply function and anonymous function\n",
    "df[\"Destroyed\"] = df[\"Aircraft.damage\"].apply(lambda x: 1 if x == \"destroyed\" else 0)\n"
   ]
  },
  {
   "cell_type": "markdown",
   "id": "e9d8af9b",
   "metadata": {},
   "source": [
    "### Investigate the *Make* column\n",
    "- Identify cleaning tasks here\n",
    "- List cleaning tasks clearly in markdown\n",
    "- Execute the cleaning tasks\n",
    "- For your analysis, keep Makes with a reasonable number (you can put the threshold at 50 though lower could work as well)"
   ]
  },
  {
   "cell_type": "code",
   "execution_count": 56,
   "id": "cf9005cf",
   "metadata": {},
   "outputs": [
    {
     "name": "stdout",
     "output_type": "stream",
     "text": [
      "CESSNA               27149\n",
      "PIPER                14870\n",
      "OTHER                14239\n",
      "BEECH                 5372\n",
      "BOEING                2745\n",
      "BELL                  2722\n",
      "MOONEY                1334\n",
      "ROBINSON              1230\n",
      "GRUMMAN               1172\n",
      "BELLANCA              1045\n",
      "HUGHES                 932\n",
      "SCHWEIZER              773\n",
      "AIR TRACTOR            691\n",
      "AERONCA                636\n",
      "MCDONNELL DOUGLAS      608\n",
      "MAULE                  589\n",
      "CHAMPION               519\n",
      "STINSON                439\n",
      "AERO COMMANDER         429\n",
      "DE HAVILLAND           422\n",
      "Name: Make_Cleaned, dtype: int64\n"
     ]
    }
   ],
   "source": [
    "# Step 1: Standardize casing and remove whitespace\n",
    "df[\"Make\"] = df[\"Make\"].str.upper().str.strip()\n",
    "\n",
    "# Step 2: Replace unknowns with NaN\n",
    "df[\"Make\"].replace({\"UNK\": np.nan, \"UNKNOWN\": np.nan}, inplace=True)\n",
    "\n",
    "# Step 3: Count occurrences\n",
    "make_counts = df[\"Make\"].value_counts()\n",
    "\n",
    "# Step 4: Keep only makes with >= 50 records, else label as \"OTHER\"\n",
    "df[\"Make_Cleaned\"] = df[\"Make\"].apply(lambda x: x if pd.notna(x) and make_counts.get(x, 0) >= 50 else \"OTHER\")\n",
    "\n",
    "# Quick check\n",
    "print(df[\"Make_Cleaned\"].value_counts().head(20))"
   ]
  },
  {
   "cell_type": "markdown",
   "id": "6ed9f3c2",
   "metadata": {},
   "source": [
    "### Inspect Model column\n",
    "- Get rid of any NaNs.\n",
    "- Inspect the column and counts for each model/make. Are model labels unique to each make?\n",
    "- If not, create a derived column that is a unique identifier for a given plane type."
   ]
  },
  {
   "cell_type": "code",
   "execution_count": 62,
   "id": "05f20594",
   "metadata": {},
   "outputs": [
    {
     "name": "stdout",
     "output_type": "stream",
     "text": [
      "12315\n",
      "152          2367\n",
      "172          1756\n",
      "172N         1164\n",
      "PA-28-140     932\n",
      "150           829\n",
      "172M          798\n",
      "172P          689\n",
      "182           659\n",
      "180           622\n",
      "150M          585\n",
      "PA-18         581\n",
      "PA-18-150     578\n",
      "PA-28-180     572\n",
      "PA-28-161     569\n",
      "PA-28-181     532\n",
      "206B          524\n",
      "737           489\n",
      "PA-38-112     469\n",
      "150L          461\n",
      "G-164A        460\n",
      "Name: Model, dtype: int64\n"
     ]
    }
   ],
   "source": [
    "df = df.dropna(subset=[\"Model\"])\n",
    "# Count unique models\n",
    "print(df[\"Model\"].nunique())\n",
    "\n",
    "# Get top 20 most common models\n",
    "print(df[\"Model\"].value_counts().head(20))"
   ]
  },
  {
   "cell_type": "code",
   "execution_count": 63,
   "id": "8cb24554",
   "metadata": {},
   "outputs": [
    {
     "name": "stdout",
     "output_type": "stream",
     "text": [
      "Model\n",
      "RV-4                 92\n",
      "KR-2                 87\n",
      "RV-6A                78\n",
      "RV-6                 74\n",
      "CHALLENGER II        61\n",
      "AVID FLYER           48\n",
      "VARIEZE              47\n",
      "RV-8                 39\n",
      "THORP T-18           32\n",
      "KITFOX               31\n",
      "SKYBOLT              30\n",
      "LONG EZ              29\n",
      "VARI-EZE             29\n",
      "DRAGONFLY            28\n",
      "QUICKIE              28\n",
      "LONG-EZ              28\n",
      "SONEX                28\n",
      "SEAREY               28\n",
      "CHRISTEN EAGLE II    26\n",
      "STEEN SKYBOLT        25\n",
      "Name: Make, dtype: int64\n"
     ]
    }
   ],
   "source": [
    "model_make_check = df.groupby(\"Model\")[\"Make\"].nunique().sort_values(ascending=False)\n",
    "print(model_make_check.head(20))"
   ]
  },
  {
   "cell_type": "code",
   "execution_count": 65,
   "id": "7a2d8bb4",
   "metadata": {},
   "outputs": [],
   "source": [
    "df[\"Make_Model\"] = df[\"Make\"].astype(str) + \" \" + df[\"Model\"].astype(str)"
   ]
  },
  {
   "cell_type": "markdown",
   "id": "9a173ebd",
   "metadata": {},
   "source": [
    "### Cleaning other columns\n",
    "- there are other columns containing data that might be related to the outcome of an accident. We list a few here:\n",
    "- Engine.Type\n",
    "- Weather.Condition\n",
    "- Number.of.Engines\n",
    "- Purpose.of.flight\n",
    "- Broad.phase.of.flight\n",
    "\n",
    "Inspect and identify potential cleaning tasks in each of the above columns. Execute those cleaning tasks. \n",
    "\n",
    "**Note**: You do not necessarily need to impute or drop NaNs here."
   ]
  },
  {
   "cell_type": "code",
   "execution_count": 66,
   "id": "01df492e",
   "metadata": {},
   "outputs": [
    {
     "name": "stdout",
     "output_type": "stream",
     "text": [
      "Reciprocating      69506\n",
      "NaN                 7015\n",
      "Turbo Shaft         3609\n",
      "Turbo Prop          3390\n",
      "Turbo Fan           2478\n",
      "Unknown             2049\n",
      "Turbo Jet            703\n",
      "None                  19\n",
      "Geared Turbofan       12\n",
      "Electric              10\n",
      "LR                     2\n",
      "NONE                   2\n",
      "Hybrid Rocket          1\n",
      "UNK                    1\n",
      "Name: Engine.Type, dtype: int64\n",
      "VMC    77264\n",
      "IMC     5974\n",
      "NaN     4442\n",
      "UNK      855\n",
      "Unk      262\n",
      "Name: Weather.Condition, dtype: int64\n",
      "1.0    69550\n",
      "2.0    11072\n",
      "NaN     6031\n",
      "0.0     1226\n",
      "3.0      483\n",
      "4.0      431\n",
      "8.0        3\n",
      "6.0        1\n",
      "Name: Number.of.Engines, dtype: int64\n",
      "Personal               49423\n",
      "Instructional          10599\n",
      "Unknown                 6793\n",
      "NaN                     6141\n",
      "Aerial Application      4710\n",
      "Business                4016\n",
      "Positioning             1645\n",
      "Other Work Use          1264\n",
      "Ferry                    812\n",
      "Aerial Observation       794\n",
      "Public Aircraft          720\n",
      "Executive/corporate      553\n",
      "Flight Test              405\n",
      "Skydiving                182\n",
      "External Load            123\n",
      "Name: Purpose.of.flight, dtype: int64\n",
      "NaN            27103\n",
      "Landing        15424\n",
      "Takeoff        12484\n",
      "Cruise         10265\n",
      "Maneuvering     8139\n",
      "Approach        6541\n",
      "Climb           2031\n",
      "Taxi            1958\n",
      "Descent         1887\n",
      "Go-around       1353\n",
      "Standing         945\n",
      "Unknown          548\n",
      "Other            119\n",
      "Name: Broad.phase.of.flight, dtype: int64\n"
     ]
    }
   ],
   "source": [
    "for col in [\n",
    "    \"Engine.Type\", \n",
    "    \"Weather.Condition\", \n",
    "    \"Number.of.Engines\", \n",
    "    \"Purpose.of.flight\", \n",
    "    \"Broad.phase.of.flight\"\n",
    "]:\n",
    "    print(df[col].value_counts(dropna=False).head(15))\n"
   ]
  },
  {
   "cell_type": "code",
   "execution_count": 70,
   "id": "213eecec",
   "metadata": {},
   "outputs": [],
   "source": [
    "df[\"Engine.Type\"] = (df[\"Engine.Type\"].str.strip().str.upper().replace({\"UNK\": None, \"UNKNOWN\": None}))\n",
    "\n",
    "# Weather.Condition\n",
    "df[\"Weather.Condition\"] = (df[\"Weather.Condition\"].str.strip().str.upper().replace({\"UNK\": None, \"UNKNOWN\": None}))\n",
    "\n",
    "# Number.of.Engines\n",
    "# Convert to numeric if it has text\n",
    "df[\"Number.of.Engines\"] = pd.to_numeric( df[\"Number.of.Engines\"], errors=\"coerce\")\n",
    "\n",
    "# Purpose.of.flight\n",
    "df[\"Purpose.of.flight\"] = (df[\"Purpose.of.flight\"].str.strip() .str.title()) # Standardize capitalization\n",
    "\n",
    "# Broad.phase.of.flight\n",
    "df[\"Broad.phase.of.flight\"] = (df[\"Broad.phase.of.flight\"].str.strip().str.title().replace({\"Taxiing\": \"Taxi\"}))"
   ]
  },
  {
   "cell_type": "code",
   "execution_count": null,
   "id": "fc876ff7",
   "metadata": {},
   "outputs": [],
   "source": []
  },
  {
   "cell_type": "markdown",
   "id": "12ad63d9",
   "metadata": {},
   "source": [
    "### Column Removal\n",
    "- inspect the dataframe and drop any columns that have too many NaNs"
   ]
  },
  {
   "cell_type": "code",
   "execution_count": 71,
   "id": "2a6cfb06",
   "metadata": {},
   "outputs": [
    {
     "name": "stdout",
     "output_type": "stream",
     "text": [
      "Schedule                  85.884658\n",
      "Air.carrier               81.293287\n",
      "FAR.Description           64.021307\n",
      "Longitude                 61.321892\n",
      "Latitude                  61.311756\n",
      "Airport.Code              43.444035\n",
      "Airport.Name              40.590335\n",
      "Broad.phase.of.flight     30.522428\n",
      "Publication.Date          15.502776\n",
      "Engine.Type               10.208678\n",
      "Report.Status              7.137629\n",
      "Purpose.of.flight          6.915774\n",
      "Number.of.Engines          6.791896\n",
      "Weather.Condition          6.260347\n",
      "Aircraft.damage            3.574445\n",
      "Total_Passengers           1.442616\n",
      "Registration.Number        1.440364\n",
      "Injury.Severity            1.103641\n",
      "Country                    0.253387\n",
      "Location                   0.058561\n",
      "Make                       0.050677\n",
      "Total.Uninjured            0.000000\n",
      "Destroyed                  0.000000\n",
      "Make_Cleaned               0.000000\n",
      "Fatal_Serious_Fraction     0.000000\n",
      "Event.Id                   0.000000\n",
      "Total.Minor.Injuries       0.000000\n",
      "Total.Serious.Injuries     0.000000\n",
      "Total.Fatal.Injuries       0.000000\n",
      "Investigation.Type         0.000000\n",
      "Amateur.Built              0.000000\n",
      "Model                      0.000000\n",
      "Aircraft.Category          0.000000\n",
      "Event.Date                 0.000000\n",
      "Accident.Number            0.000000\n",
      "Make_Model                 0.000000\n",
      "dtype: float64\n",
      "Schedule           85.884658\n",
      "Air.carrier        81.293287\n",
      "FAR.Description    64.021307\n",
      "Longitude          61.321892\n",
      "Latitude           61.311756\n",
      "dtype: float64\n"
     ]
    }
   ],
   "source": [
    "na_percent = df.isna().mean().sort_values(ascending=False) * 100\n",
    "print(na_percent)\n",
    "\n",
    "# Quick look at columns with >50% missing\n",
    "print(na_percent[na_percent > 50])"
   ]
  },
  {
   "cell_type": "code",
   "execution_count": 74,
   "id": "f661bb21",
   "metadata": {},
   "outputs": [
    {
     "name": "stdout",
     "output_type": "stream",
     "text": [
      "Index(['Event.Id', 'Investigation.Type', 'Accident.Number', 'Event.Date',\n",
      "       'Location', 'Country', 'Airport.Code', 'Airport.Name',\n",
      "       'Injury.Severity', 'Aircraft.damage', 'Aircraft.Category',\n",
      "       'Registration.Number', 'Make', 'Model', 'Amateur.Built',\n",
      "       'Number.of.Engines', 'Engine.Type', 'Purpose.of.flight',\n",
      "       'Total.Fatal.Injuries', 'Total.Serious.Injuries',\n",
      "       'Total.Minor.Injuries', 'Total.Uninjured', 'Weather.Condition',\n",
      "       'Broad.phase.of.flight', 'Report.Status', 'Publication.Date',\n",
      "       'Total_Passengers', 'Fatal_Serious_Fraction', 'Destroyed',\n",
      "       'Make_Cleaned', 'Make_Model'],\n",
      "      dtype='object')\n"
     ]
    }
   ],
   "source": [
    "df_cleaned = df.dropna(thresh=len(df)*0.5, axis=1)\n",
    "\n",
    "print(df_cleaned.columns)"
   ]
  },
  {
   "cell_type": "markdown",
   "id": "750d48f1",
   "metadata": {},
   "source": [
    "### Save DataFrame to csv\n",
    "- its generally useful to save data to file/server after its in a sufficiently cleaned or intermediate state\n",
    "- the data can then be loaded directly in another notebook for further analysis\n",
    "- this helps keep your notebooks and workflow readable, clean and modularized"
   ]
  },
  {
   "cell_type": "code",
   "execution_count": 1754,
   "id": "b425a512",
   "metadata": {},
   "outputs": [],
   "source": []
  }
 ],
 "metadata": {
  "kernelspec": {
   "display_name": "Python 3 (ipykernel)",
   "language": "python",
   "name": "python3"
  },
  "language_info": {
   "codemirror_mode": {
    "name": "ipython",
    "version": 3
   },
   "file_extension": ".py",
   "mimetype": "text/x-python",
   "name": "python",
   "nbconvert_exporter": "python",
   "pygments_lexer": "ipython3",
   "version": "3.9.13"
  }
 },
 "nbformat": 4,
 "nbformat_minor": 5
}
